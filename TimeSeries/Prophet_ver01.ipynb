{
 "cells": [
  {
   "cell_type": "code",
   "execution_count": 13,
   "metadata": {},
   "outputs": [
    {
     "name": "stdout",
     "output_type": "stream",
     "text": [
      "Number of CPU cores: 8\n"
     ]
    }
   ],
   "source": [
    "import multiprocessing\n",
    "print(f\"Number of CPU cores: {multiprocessing.cpu_count()}\")"
   ]
  },
  {
   "cell_type": "code",
   "execution_count": 14,
   "metadata": {},
   "outputs": [],
   "source": [
    "from joblib import Parallel, delayed\n",
    "import multiprocessing\n",
    "import pandas as pd\n",
    "from fbprophet import Prophet\n",
    "\n",
    "import pandas as pd\n",
    "import numpy as np"
   ]
  },
  {
   "cell_type": "code",
   "execution_count": 15,
   "metadata": {},
   "outputs": [],
   "source": [
    "# 2022년 1월부터 2024년 1월까지의 모든 달\n",
    "months = pd.date_range(start='2022-01-01', end='2024-02-01', freq='M').strftime('%Y-%m').tolist()\n",
    "\n",
    "# 60개 행, 25개월 컬럼 데이터프레임 생성\n",
    "df = pd.DataFrame(np.random.randint(1, 11, size=(60, 25)), columns=months)"
   ]
  },
  {
   "cell_type": "code",
   "execution_count": 16,
   "metadata": {},
   "outputs": [],
   "source": [
    "import warnings\n",
    "warnings.simplefilter(action='ignore', category=FutureWarning)\n",
    "\n",
    "import logging\n",
    "logger = logging.getLogger('fbprophet')\n",
    "logger.setLevel(logging.WARNING)"
   ]
  },
  {
   "cell_type": "code",
   "execution_count": 17,
   "metadata": {},
   "outputs": [],
   "source": [
    "from multiprocessing import Pool"
   ]
  },
  {
   "cell_type": "code",
   "execution_count": 18,
   "metadata": {},
   "outputs": [
    {
     "name": "stdout",
     "output_type": "stream",
     "text": [
      "Wall time: 0 ns\n"
     ]
    }
   ],
   "source": [
    "%%time\n",
    "# 멀티프로세싱으로 예측 실행하는 함수 정의\n",
    "def predict(i):\n",
    "    # 예측할 컬럼의 데이터 추출\n",
    "    #data_col = data[['date', column_name]].rename(columns={'date': 'ds', column_name: 'y'})\n",
    "    data_col = pd.DataFrame(df.iloc[i,:-1]).reset_index()\n",
    "    data_col.columns = ['ds','y']\n",
    "\n",
    "    # 모델 생성 및 학습\n",
    "    model = Prophet()\n",
    "    model.fit(data_col)\n",
    "\n",
    "    # 예측 실행\n",
    "    future = pd.DataFrame([df.columns[-1]],columns=['ds'])\n",
    "    forecast = model.predict(future)\n",
    "\n",
    "    # 예측 결과에서 필요한 부분만 추출하여 반환\n",
    "    forecast = forecast[['ds', 'yhat', 'yhat_lower', 'yhat_upper']]\n",
    "    forecast['idx'] = i\n",
    "\n",
    "\n",
    "    return forecast\n",
    "\n",
    "# # 멀티프로세싱으로 예측 실행\n",
    "# with Pool(processes=2) as p:\n",
    "#     #results = p.map(predict, data.columns[1:])\n",
    "#     results = p.map(predict, list(df.index))\n",
    "\n",
    "# # 각 예측 결과를 하나의 데이터프레임으로 합치기\n",
    "# forecast = pd.concat(results, axis=0)"
   ]
  },
  {
   "cell_type": "code",
   "execution_count": 19,
   "metadata": {},
   "outputs": [
    {
     "name": "stdout",
     "output_type": "stream",
     "text": [
      "Wall time: 1.5 s\n"
     ]
    },
    {
     "data": {
      "text/html": [
       "<div>\n",
       "<style scoped>\n",
       "    .dataframe tbody tr th:only-of-type {\n",
       "        vertical-align: middle;\n",
       "    }\n",
       "\n",
       "    .dataframe tbody tr th {\n",
       "        vertical-align: top;\n",
       "    }\n",
       "\n",
       "    .dataframe thead th {\n",
       "        text-align: right;\n",
       "    }\n",
       "</style>\n",
       "<table border=\"1\" class=\"dataframe\">\n",
       "  <thead>\n",
       "    <tr style=\"text-align: right;\">\n",
       "      <th></th>\n",
       "      <th>ds</th>\n",
       "      <th>yhat</th>\n",
       "      <th>yhat_lower</th>\n",
       "      <th>yhat_upper</th>\n",
       "      <th>idx</th>\n",
       "    </tr>\n",
       "  </thead>\n",
       "  <tbody>\n",
       "    <tr>\n",
       "      <th>0</th>\n",
       "      <td>2024-01-01</td>\n",
       "      <td>4.047486</td>\n",
       "      <td>0.500955</td>\n",
       "      <td>7.410761</td>\n",
       "      <td>3</td>\n",
       "    </tr>\n",
       "  </tbody>\n",
       "</table>\n",
       "</div>"
      ],
      "text/plain": [
       "          ds      yhat  yhat_lower  yhat_upper  idx\n",
       "0 2024-01-01  4.047486    0.500955    7.410761    3"
      ]
     },
     "execution_count": 19,
     "metadata": {},
     "output_type": "execute_result"
    }
   ],
   "source": [
    "%%time\n",
    "predict(3)"
   ]
  },
  {
   "cell_type": "code",
   "execution_count": 20,
   "metadata": {},
   "outputs": [],
   "source": [
    "# %%time\n",
    "# # 멀티프로세싱으로 예측 실행하는 함수 정의\n",
    "# for i in list(df.index):\n",
    "#     # 예측할 컬럼의 데이터 추출\n",
    "#     #data_col = data[['date', column_name]].rename(columns={'date': 'ds', column_name: 'y'})\n",
    "#     data_col = pd.DataFrame(df.iloc[i,:-1]).reset_index()\n",
    "#     data_col.columns = ['ds','y']\n",
    "\n",
    "#     # 모델 생성 및 학습\n",
    "#     model = Prophet()\n",
    "#     model.fit(data_col)\n",
    "\n",
    "#     # 예측 실행\n",
    "#     future = pd.DataFrame([df.columns[-1]],columns=['ds'])\n",
    "#     forecast = model.predict(future)\n",
    "\n",
    "#     # 예측 결과에서 필요한 부분만 추출하여 반환\n",
    "#     forecast = forecast[['ds', 'yhat', 'yhat_lower', 'yhat_upper']]\n",
    "#     forecast['idx'] = i"
   ]
  },
  {
   "cell_type": "code",
   "execution_count": null,
   "metadata": {},
   "outputs": [],
   "source": [
    "%%time\n",
    "with Pool() as p:\n",
    "    #results = p.map(predict, data.columns[1:])\n",
    "    results = p.map(predict, list(df.index))"
   ]
  }
 ],
 "metadata": {
  "kernelspec": {
   "display_name": "Python 3",
   "language": "python",
   "name": "python3"
  },
  "language_info": {
   "codemirror_mode": {
    "name": "ipython",
    "version": 3
   },
   "file_extension": ".py",
   "mimetype": "text/x-python",
   "name": "python",
   "nbconvert_exporter": "python",
   "pygments_lexer": "ipython3",
   "version": "3.8.5"
  }
 },
 "nbformat": 4,
 "nbformat_minor": 4
}
